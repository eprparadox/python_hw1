{
 "metadata": {
  "name": ""
 },
 "nbformat": 3,
 "nbformat_minor": 0,
 "worksheets": [
  {
   "cells": [
    {
     "cell_type": "code",
     "collapsed": false,
     "input": [
      "%qtconsole"
     ],
     "language": "python",
     "metadata": {},
     "outputs": [],
     "prompt_number": 1
    },
    {
     "cell_type": "code",
     "collapsed": false,
     "input": [
      "%pylab inline\n",
      "import numpy as np\n",
      "import matplotlib.pyplot as plt\n",
      "\n",
      "# we'll need some path manipulations later on\n",
      "import os"
     ],
     "language": "python",
     "metadata": {},
     "outputs": [
      {
       "output_type": "stream",
       "stream": "stdout",
       "text": [
        "Populating the interactive namespace from numpy and matplotlib\n"
       ]
      }
     ],
     "prompt_number": 12
    },
    {
     "cell_type": "code",
     "collapsed": false,
     "input": [
      "def Audio(fname):\n",
      "    \"\"\"Provide a player widget for an audio file.\n",
      "    \n",
      "    Parameters\n",
      "    ==========\n",
      "    fname : string\n",
      "      Filename to be played.\n",
      "      \n",
      "    Warning\n",
      "    =======\n",
      "    \n",
      "    Browsers cache audio very aggressively. If you change an\n",
      "    audio file on disk and are trying to listen to the  new version, you \n",
      "    may want to \n",
      "    \"\"\"\n",
      "    from IPython.display import HTML, display\n",
      "    \n",
      "    # Find out file extension and deduce MIME type for audio format\n",
      "    ext = os.path.splitext(fname)[1].replace('.', '').lower()\n",
      "    mimetype = 'audio/' + ('mpeg' if ext == 'mp3' else ext)\n",
      "    \n",
      "    tpl = \"\"\"<p>{fname}:</p>\n",
      "<audio controls>\n",
      "    <source src=\"files/{fname}\" type=\"{mimetype}\">\n",
      "\n",
      "Your browser does not support the Audio element; you can play \n",
      "<a href=\"files/{fname}\">this file</a> manually.\n",
      "</audio>\n",
      "\"\"\"\n",
      "    display(HTML(tpl.format(**locals())))"
     ],
     "language": "python",
     "metadata": {},
     "outputs": [],
     "prompt_number": 13
    },
    {
     "cell_type": "code",
     "collapsed": false,
     "input": [
      "def specgram_cbar(x, title=None, clim=(0, 80) ):\n",
      "    \"\"\"Plot spectrogram with a colorbar and range normalization.\n",
      "    \n",
      "    Call matplotlib's specgram function, with a custom figure size, \n",
      "    automatic colobar, title and custom color limits to ease \n",
      "    comparison across multiple figures.\n",
      "    \n",
      "    Parameters\n",
      "    ==========\n",
      "    x : array\n",
      "      One-dimensional array whose spectrogram should be plotted.\n",
      "      \n",
      "    title : string\n",
      "      Optional title for the figure.\n",
      "      \n",
      "    clim : 2-tuple\n",
      "      Range for the color limits plotted in the spectrogram.\n",
      "    \"\"\"\n",
      "    f = plt.figure(figsize=(10,3))\n",
      "    plt.specgram(x)\n",
      "    plt.colorbar()\n",
      "    plt.clim(*clim)\n",
      "    if title is not None:\n",
      "        plt.title(title)\n",
      "    plt.show()"
     ],
     "language": "python",
     "metadata": {},
     "outputs": [],
     "prompt_number": 14
    },
    {
     "cell_type": "heading",
     "level": 1,
     "metadata": {},
     "source": [
      "Problem 1"
     ]
    },
    {
     "cell_type": "markdown",
     "metadata": {},
     "source": [
      "Use the `Audio` function above to listen to the signal we will be experimenting with, a simple voice recording stored in the file `hw_0_data/voice.wav`.\n",
      "\n",
      "Note: if your browser doesn't support audio, you may try a different browser.   We've tested current versions of Chrome and Firefox, and it works OK with both."
     ]
    },
    {
     "cell_type": "code",
     "collapsed": false,
     "input": [
      "Audio('voice.wav')"
     ],
     "language": "python",
     "metadata": {},
     "outputs": [
      {
       "html": [
        "<p>voice.wav:</p>\n",
        "<audio controls>\n",
        "    <source src=\"files/voice.wav\" type=\"audio/wav\">\n",
        "\n",
        "Your browser does not support the Audio element; you can play \n",
        "<a href=\"files/voice.wav\">this file</a> manually.\n",
        "</audio>\n"
       ],
       "metadata": {},
       "output_type": "display_data",
       "text": [
        "<IPython.core.display.HTML at 0x10e029890>"
       ]
      }
     ],
     "prompt_number": 16
    },
    {
     "cell_type": "code",
     "collapsed": false,
     "input": [],
     "language": "python",
     "metadata": {},
     "outputs": []
    }
   ],
   "metadata": {}
  }
 ]
}