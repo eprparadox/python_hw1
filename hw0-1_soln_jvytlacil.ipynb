{
 "metadata": {
  "name": ""
 },
 "nbformat": 3,
 "nbformat_minor": 0,
 "worksheets": [
  {
   "cells": [
    {
     "cell_type": "heading",
     "level": 1,
     "metadata": {},
     "source": [
      "jvytlacil - homework0-1 solution"
     ]
    },
    {
     "cell_type": "markdown",
     "metadata": {},
     "source": [
      "We need to load several images and detect the presence of a black dot. \n",
      "Then, alter the images such that the black dot in each is aligned to\n",
      "the position of the dot in the first image."
     ]
    },
    {
     "cell_type": "code",
     "collapsed": false,
     "input": [
      "%qtconsole"
     ],
     "language": "python",
     "metadata": {},
     "outputs": [],
     "prompt_number": 10
    },
    {
     "cell_type": "code",
     "collapsed": false,
     "input": [
      "cd Data/"
     ],
     "language": "python",
     "metadata": {},
     "outputs": [
      {
       "output_type": "stream",
       "stream": "stdout",
       "text": [
        "/Users/jvytlacil/Documents/classes/python-seminar-homeworks/python_hw1/Data\n"
       ]
      }
     ],
     "prompt_number": 1
    },
    {
     "cell_type": "code",
     "collapsed": false,
     "input": [
      "## import relevant modules\n",
      "import numpy as np\n",
      "import glob"
     ],
     "language": "python",
     "metadata": {},
     "outputs": [],
     "prompt_number": 60
    },
    {
     "cell_type": "code",
     "collapsed": false,
     "input": [
      "## assume we're in the correct directory.  \n",
      "## get the images\n",
      "image_list = glob.glob('im1*.png')\n"
     ],
     "language": "python",
     "metadata": {},
     "outputs": [],
     "prompt_number": 61
    },
    {
     "cell_type": "markdown",
     "metadata": {},
     "source": [
      "Let's take a look at the first image using the hint we got in the instructions"
     ]
    },
    {
     "cell_type": "code",
     "collapsed": false,
     "input": [
      "%pylab inline\n",
      "from scipy.ndimage import imread\n",
      "im=imread(image_list[0],flatten=True)\n",
      "imshow(im,cmap=cm.Greys)"
     ],
     "language": "python",
     "metadata": {},
     "outputs": [
      {
       "output_type": "stream",
       "stream": "stdout",
       "text": [
        "Populating the interactive namespace from numpy and matplotlib\n"
       ]
      },
      {
       "output_type": "stream",
       "stream": "stderr",
       "text": [
        "WARNING: pylab import has clobbered these variables: ['imread']\n",
        "`%pylab --no-import-all` prevents importing * from pylab and numpy\n"
       ]
      },
      {
       "metadata": {},
       "output_type": "pyout",
       "prompt_number": 62,
       "text": [
        "<matplotlib.image.AxesImage at 0x113948650>"
       ]
      },
      {
       "metadata": {},
       "output_type": "display_data",
       "png": "[encoded data removed]",
       "text": [
        "<matplotlib.figure.Figure at 0x110739b50>"
       ]
      }
     ],
     "prompt_number": 62
    },
    {
     "cell_type": "markdown",
     "metadata": {},
     "source": [
      "Looks like it's a bright white spot rather than a black spot like in the pdf.  Good thing we checked.\n",
      "Let's examine the im variable."
     ]
    },
    {
     "cell_type": "code",
     "collapsed": false,
     "input": [
      "print 'array shape is ' + str(im.shape)\n",
      "print 'max value in image is ' + str(im.max())\n",
      "print 'min value in image is ' + str(im.min())"
     ],
     "language": "python",
     "metadata": {},
     "outputs": [
      {
       "output_type": "stream",
       "stream": "stdout",
       "text": [
        "array shape is (288, 288)\n",
        "max value in image is 255.0\n",
        "min value in image is 5.0\n"
       ]
      }
     ],
     "prompt_number": 63
    },
    {
     "cell_type": "markdown",
     "metadata": {},
     "source": [
      "Great.  I'm assuming the bright spot is the max val?  Let's find out."
     ]
    },
    {
     "cell_type": "code",
     "collapsed": false,
     "input": [
      "### the below from stack overflow... \n",
      "### pretty annoyed that there's not an easier way to return \n",
      "### multidimensional subscripts rather than indicies \n",
      "np.unravel_index(im.argmax(), im.shape)\n"
     ],
     "language": "python",
     "metadata": {},
     "outputs": [
      {
       "metadata": {},
       "output_type": "pyout",
       "prompt_number": 64,
       "text": [
        "(231, 75)"
       ]
      }
     ],
     "prompt_number": 64
    },
    {
     "cell_type": "markdown",
     "metadata": {},
     "source": [
      "That doesn't seem right.  Maybe the minimum?"
     ]
    },
    {
     "cell_type": "code",
     "collapsed": false,
     "input": [
      "np.unravel_index(im.argmin(), im.shape)\n"
     ],
     "language": "python",
     "metadata": {},
     "outputs": [
      {
       "metadata": {},
       "output_type": "pyout",
       "prompt_number": 65,
       "text": [
        "(71, 144)"
       ]
      }
     ],
     "prompt_number": 65
    },
    {
     "cell_type": "markdown",
     "metadata": {},
     "source": [
      "Ok seems closer the the spot we see in the image.  So now I might just pull up each of the images and save the position of this white spot in each"
     ]
    },
    {
     "cell_type": "code",
     "collapsed": false,
     "input": [
      "## intialize list of tuples \n",
      "bright_spots = []\n",
      "## load up each image and get the coords of the min and\n",
      "## add to the list\n",
      "for image in image_list:\n",
      "    im=imread(image,flatten=True)\n",
      "    bright_spots.append(np.unravel_index(im.argmin(), im.shape))\n"
     ],
     "language": "python",
     "metadata": {},
     "outputs": [],
     "prompt_number": 66
    },
    {
     "cell_type": "markdown",
     "metadata": {},
     "source": [
      "**Solution to 0-0** The first answer calls for the list of tuples.  This is provided thusly:"
     ]
    },
    {
     "cell_type": "code",
     "collapsed": false,
     "input": [
      "for idx, point in enumerate(bright_spots):\n",
      "    print 'center of image: ' + str(idx) + ' is: ' + str(point)"
     ],
     "language": "python",
     "metadata": {},
     "outputs": [
      {
       "output_type": "stream",
       "stream": "stdout",
       "text": [
        "center of image: 0 is: (71, 144)\n",
        "center of image: 1 is: (71, 195)\n",
        "center of image: 2 is: (66, 134)\n",
        "center of image: 3 is: (76, 128)\n",
        "center of image: 4 is: (76, 118)\n"
       ]
      }
     ],
     "prompt_number": 67
    },
    {
     "cell_type": "markdown",
     "metadata": {},
     "source": [
      "So far so good.  For the next part, we calculate the offset of each subsequent image from the first image."
     ]
    },
    {
     "cell_type": "code",
     "collapsed": false,
     "input": [
      "## make the first image the 'original space'\n",
      "center1 = bright_spots[0]\n",
      "## intialize a list of offset tuples\n",
      "offsets = []\n",
      "## get the offsets (x, y)\n",
      "for point in bright_spots:\n",
      "    offsets.append([center1[0] - point[0],center1[1] - point[1]])"
     ],
     "language": "python",
     "metadata": {},
     "outputs": [],
     "prompt_number": 68
    },
    {
     "cell_type": "markdown",
     "metadata": {},
     "source": [
      "**Solution to 0-1** And now we bring scipy in the mix and shift each image to bring it into alignment with the first using its offset.  This combined with the step above is solution to the second part."
     ]
    },
    {
     "cell_type": "code",
     "collapsed": false,
     "input": [
      "import scipy as sp"
     ],
     "language": "python",
     "metadata": {},
     "outputs": [],
     "prompt_number": 69
    },
    {
     "cell_type": "code",
     "collapsed": false,
     "input": [
      "## keep in numpy arrays\n",
      "shifted_images = []\n",
      "\n",
      "## shift images\n",
      "for image, offset in zip(image_list, offsets):\n",
      "    im=imread(image,flatten=True)\n",
      "    print offset\n",
      "    shifted_image = sp.ndimage.interpolation.shift(im,offset,order = 3,mode='wrap')\n",
      "    shifted_images.append(np.array(shifted_image))\n",
      "    ## and also save\n",
      "    imsave(image[:-4] + '-shifted.png', shifted_image)\n"
     ],
     "language": "python",
     "metadata": {},
     "outputs": [
      {
       "output_type": "stream",
       "stream": "stdout",
       "text": [
        "[0, 0]\n",
        "[0, -51]\n",
        "[5, 10]"
       ]
      },
      {
       "output_type": "stream",
       "stream": "stdout",
       "text": [
        "\n",
        "[-5, 16]\n",
        "[-5, 26]"
       ]
      },
      {
       "output_type": "stream",
       "stream": "stdout",
       "text": [
        "\n"
       ]
      }
     ],
     "prompt_number": 70
    },
    {
     "cell_type": "markdown",
     "metadata": {},
     "source": [
      "Now we need to mask out grey in each of the images.  First we need to *find* the grey in each of the images.  Grey is probably 183 since we saw a lot of those values near the end of the arrar when we were experimenting earlier (probably a more rigorous way to do this)"
     ]
    },
    {
     "cell_type": "code",
     "collapsed": false,
     "input": [
      "## intialize empty masked array\n",
      "the_dims = (shifted_image.shape[0],shifted_image.shape[1],len(shifted_images))\n",
      "shifted_masked_images = ma.zeros(the_dims)\n",
      "for idx, image in enumerate(shifted_images):\n",
      "    the_mask = ma.masked_array(np.where(image == 183, True,False))\n",
      "    x = np.ma.masked_array(image,mask=the_mask)\n",
      "    shifted_masked_images[:,:,idx] = x"
     ],
     "language": "python",
     "metadata": {},
     "outputs": [],
     "prompt_number": 71
    },
    {
     "cell_type": "markdown",
     "metadata": {},
     "source": [
      "Found this command on stack overflow.. I probably shouldn't have stored all the arrays in a list but now I'll change it to a 3d array."
     ]
    },
    {
     "cell_type": "code",
     "collapsed": false,
     "input": [
      "## now take median across the 3rd dim\n",
      "secret_message = np.ma.median(shifted_masked_images,axis=-1)"
     ],
     "language": "python",
     "metadata": {},
     "outputs": [],
     "prompt_number": 72
    },
    {
     "cell_type": "code",
     "collapsed": false,
     "input": [
      "imshow(secret_message)"
     ],
     "language": "python",
     "metadata": {},
     "outputs": [
      {
       "metadata": {},
       "output_type": "pyout",
       "prompt_number": 73,
       "text": [
        "<matplotlib.image.AxesImage at 0x113977ad0>"
       ]
      },
      {
       "metadata": {},
       "output_type": "display_data",
       "png": "[encoded data removed]",
       "text": [
        "<matplotlib.figure.Figure at 0x10d5399d0>"
       ]
      }
     ],
     "prompt_number": 73
    },
    {
     "cell_type": "code",
     "collapsed": false,
     "input": [
      "print '#brockknows ' + '#brockVSwalt'"
     ],
     "language": "python",
     "metadata": {},
     "outputs": [
      {
       "output_type": "stream",
       "stream": "stdout",
       "text": [
        "#brockknows #brockVSwalt\n"
       ]
      }
     ],
     "prompt_number": 58
    },
    {
     "cell_type": "code",
     "collapsed": false,
     "input": [],
     "language": "python",
     "metadata": {},
     "outputs": []
    }
   ],
   "metadata": {}
  }
 ]
}